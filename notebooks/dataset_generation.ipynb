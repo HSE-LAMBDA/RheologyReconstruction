{
 "cells": [
  {
   "cell_type": "code",
   "execution_count": 1,
   "metadata": {},
   "outputs": [],
   "source": [
    "import numpy as np\n",
    "from fenics import *\n",
    "\n",
    "import math as m\n",
    "from scipy.spatial import ConvexHull\n",
    "import argparse \n",
    "import os\n",
    "import time"
   ]
  },
  {
   "cell_type": "code",
   "execution_count": 4,
   "metadata": {},
   "outputs": [],
   "source": [
    "SEED = 1\n",
    "np.random.seed(SEED)\n",
    "\n",
    "LLIM_X = 0.0\n",
    "RLIM_X = 2000.0\n",
    "\n",
    "LLIM_Y = 0.0\n",
    "RLIM_Y = 2000.0"
   ]
  },
  {
   "cell_type": "code",
   "execution_count": 5,
   "metadata": {},
   "outputs": [],
   "source": [
    "def create_hull():\n",
    "\n",
    "    cx = (LLIM_X + RLIM_X) / 2.\n",
    "    cy = (LLIM_X + RLIM_X) / 2.\n",
    "\n",
    "    disp_x = np.random.uniform(160., 200.)\n",
    "    disp_y = np.random.uniform(disp_x / 2., disp_x * 0.66)\n",
    "\n",
    "    # center of the shape\n",
    "    base = np.array(\n",
    "        [[a, b] for a, b in zip(\n",
    "            np.ones(100) * cx + np.random.uniform(-200., 200.),\n",
    "            np.ones(100) * cy + np.random.uniform(-200., 200.))]\n",
    "    )\n",
    "\n",
    "    # a random angle to rotate the polygon\n",
    "    angle = m.pi * np.random.normal(0, 90) / 180\n",
    "\n",
    "    rotation_matrix = np.array([\n",
    "        [m.cos(angle), -m.sin(angle)],\n",
    "        [m.sin(angle), m.cos(angle)]\n",
    "    ])\n",
    "\n",
    "\n",
    "    data = np.random.normal(0, (disp_x, disp_y), (100, 2))\n",
    "    data = data.dot(rotation_matrix) + base\n",
    "\n",
    "    hull = ConvexHull(data)\n",
    "\n",
    "    xx, yy = np.meshgrid(\n",
    "        np.linspace(LLIM_X, RLIM_X, 128),\n",
    "        np.linspace(LLIM_Y, RLIM_Y, 128)\n",
    "    )\n",
    "\n",
    "    res = []\n",
    "\n",
    "    for x, y in zip(xx.flatten(), yy.flatten()):\n",
    "        pts = np.concatenate((hull.points, np.array([[x, y]])))\n",
    "        hull_tmp = ConvexHull(pts)\n",
    "        if np.array_equal(hull.vertices,hull_tmp.vertices):\n",
    "            res.append(1.)\n",
    "        else:\n",
    "            res.append(0.)\n",
    "\n",
    "    return np.array(res).reshape(128, 128)"
   ]
  },
  {
   "cell_type": "code",
   "execution_count": 7,
   "metadata": {},
   "outputs": [],
   "source": [
    "detector_coords = [(np.array([c, 2000.])) for c in np.linspace(0., 2000., 128)] \n",
    "buffer          = np.zeros((2, 128, 128))\n",
    "\n",
    "\n",
    "def save(\n",
    "    timestep, \n",
    "    curr_time,\n",
    "    u_field, \n",
    "    v_field, \n",
    "    a_field\n",
    "):\n",
    "    \n",
    "    data = [u_field(c) for c in detector_coords]\n",
    "    buffer[:, timestep+1] = np.array(data).T"
   ]
  },
  {
   "cell_type": "code",
   "execution_count": 17,
   "metadata": {},
   "outputs": [
    {
     "data": {
      "application/vnd.jupyter.widget-view+json": {
       "model_id": "e628ca432fe94be8ba737c6dcdfff330",
       "version_major": 2,
       "version_minor": 0
      },
      "text/plain": [
       "running:   0%|          | 0/1 [00:00<?, ?it/s]"
      ]
     },
     "metadata": {},
     "output_type": "display_data"
    },
    {
     "data": {
      "image/png": "[encoded data removed]",
      "text/plain": [
       "<Figure size 432x288 with 1 Axes>"
      ]
     },
     "metadata": {
      "needs_background": "light"
     },
     "output_type": "display_data"
    },
    {
     "data": {
      "image/png": "[encoded data removed]",
      "text/plain": [
       "<Figure size 432x288 with 1 Axes>"
      ]
     },
     "metadata": {
      "needs_background": "light"
     },
     "output_type": "display_data"
    }
   ],
   "source": [
    "import matplotlib.pyplot as plt\n",
    "from tqdm.notebook import tqdm\n",
    "from dolfin_adjoint.elasticity_solver import elasticity_solver\n",
    "\n",
    "\n",
    "n_samples   = int(1e4)\n",
    "dataset_dir = os.path.join(os.getcwd(), 'dataset')\n",
    "config_path = '/home/fenics/shared/datasets/heterogeneity/solver_config.yaml'\n",
    "\n",
    "for i in tqdm(range(n_samples), desc='running'):\n",
    "    \n",
    "    hull = create_hull()\n",
    "    np.save(os.path.join(dataset_dir, 'masks', f'{i}'), hull)\n",
    "    \n",
    "    slvr = elasticity_solver(\n",
    "        hull.T,\n",
    "        hull.T,\n",
    "        hull.T,\n",
    "        config_path\n",
    "    )\n",
    " \n",
    "    slvr.forward(save_callback=save)\n",
    "    \n",
    "    np.save(os.path.join(dataset_dir, 'seismograms', f'{i}'), buffer)"
   ]
  },
  {
   "cell_type": "code",
   "execution_count": null,
   "metadata": {},
   "outputs": [],
   "source": []
  }
 ],
 "metadata": {
  "kernelspec": {
   "display_name": "Python 3",
   "language": "python",
   "name": "python3"
  },
  "language_info": {
   "codemirror_mode": {
    "name": "ipython",
    "version": 3
   },
   "file_extension": ".py",
   "mimetype": "text/x-python",
   "name": "python",
   "nbconvert_exporter": "python",
   "pygments_lexer": "ipython3",
   "version": "3.6.9"
  }
 },
 "nbformat": 4,
 "nbformat_minor": 4
}
