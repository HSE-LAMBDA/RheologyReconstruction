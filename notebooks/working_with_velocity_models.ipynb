{
  "nbformat": 4,
  "nbformat_minor": 0,
  "metadata": {
    "colab": {
      "name": "working_with_velocity_models.ipynb",
      "provenance": [],
      "collapsed_sections": []
    },
    "kernelspec": {
      "name": "python3",
      "display_name": "Python 3"
    },
    "language_info": {
      "name": "python"
    }
  },
  "cells": [
    {
      "cell_type": "code",
      "metadata": {
        "id": "EHgkkQHuhrhI"
      },
      "source": [
        "#! git clone https://github.com/HSE-LAMBDA/RheologyReconstruction.git\n",
        "#! pip install 'dvc[azure]'\n",
        "#! pip install pyevtk"
      ],
      "execution_count": 1,
      "outputs": []
    },
    {
      "cell_type": "code",
      "metadata": {
        "id": "v22kOjrrh9Ph"
      },
      "source": [
        "#! cd RheologyReconstruction/datasets && dvc pull velocity_models_china.tar\n",
        "#! tar xvf /content/RheologyReconstruction/datasets/velocity_models_china.tar"
      ],
      "execution_count": 2,
      "outputs": []
    },
    {
      "cell_type": "code",
      "metadata": {
        "id": "P_zFJnwliVvo"
      },
      "source": [
        "import os\n",
        "import sys\n",
        "\n",
        "sys.path.append('/content/RheologyReconstruction')"
      ],
      "execution_count": 3,
      "outputs": []
    },
    {
      "cell_type": "code",
      "metadata": {
        "colab": {
          "base_uri": "https://localhost:8080/"
        },
        "id": "FxuWt1zUkzn0",
        "outputId": "8a829895-ff10-456a-b73f-23d188835558"
      },
      "source": [
        "! mkdir dataset/\n",
        "! mkdir dataset/seismograms/\n",
        "! mkdir dataset/masks/"
      ],
      "execution_count": 4,
      "outputs": [
        {
          "output_type": "stream",
          "text": [
            "mkdir: cannot create directory ‘dataset/’: File exists\n",
            "mkdir: cannot create directory ‘dataset/seismograms/’: File exists\n",
            "mkdir: cannot create directory ‘dataset/masks/’: File exists\n"
          ],
          "name": "stdout"
        }
      ]
    },
    {
      "cell_type": "code",
      "metadata": {
        "id": "I76Iauv_idrt"
      },
      "source": [
        "import numpy as np\n",
        "from tqdm.notebook import tqdm\n",
        "from pipeline.acoustics_solver import acoustics_solver\n",
        "\n",
        "vmodels_dir = '/content/velocity_models_china/'\n",
        "dataset_dir = '/content/dataset/'\n",
        "\n",
        "buffer = _\n",
        "\n",
        "for i, model in tqdm(enumerate(sorted(os.listdir(vmodels_dir))), desc='running'):\n",
        "\n",
        "    cp = np.load(vmodels_dir + model)\n",
        "\n",
        "    # marmousi-style density from cp\n",
        "\n",
        "    rho = np.zeros_like(cp)\n",
        "    rho[cp < 4500.  ] = cp[cp < 4500. ] * 0.2806 + 265.\n",
        "    rho[cp >= 4500. ] = 2140 \n",
        "\n",
        "    x_size = 3000.\n",
        "    y_size = 2000.\n",
        "    \n",
        "    solver = acoustics_solver(\n",
        "        x_size, y_size, \n",
        "        cp.T[:, ::-1], rho.T[:, ::-1], \n",
        "        2.0, 0.01, \n",
        "        100., # source width\n",
        "        source_center_in_percents=50., \n",
        "        dump_vtk=False, \n",
        "        verbose=False\n",
        "    )\n",
        "    \n",
        "    buffer = solver.forward() \n",
        "    np.save(os.path.join(dataset_dir, 'masks', f'{i}'), cp)\n",
        "    np.save(os.path.join(dataset_dir, 'seismograms', f'{i}'), buffer[::-1])"
      ],
      "execution_count": 5,
      "outputs": []
    }
  ]
}