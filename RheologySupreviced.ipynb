{
  "nbformat": 4,
  "nbformat_minor": 0,
  "metadata": {
    "colab": {
      "name": "RheologySupreviced.ipynb",
      "provenance": [],
      "collapsed_sections": []
    },
    "kernelspec": {
      "name": "python3",
      "display_name": "Python 3"
    },
    "language_info": {
      "name": "python"
    },
    "accelerator": "GPU"
  },
  "cells": [
    {
      "cell_type": "code",
      "metadata": {
        "id": "ClQ3aOZNUsMP"
      },
      "source": [
        "import pickle\n",
        "import os\n",
        "import numpy as np\n",
        "import matplotlib.pyplot as plt"
      ],
      "execution_count": null,
      "outputs": []
    },
    {
      "cell_type": "markdown",
      "metadata": {
        "id": "DIc1RMbtIPub"
      },
      "source": [
        "Вот тут загружаем файлы. Неважно как, главное, чтобы архив heterogenity_zip.zip лежал в рабочей области, ну, и распаковать его"
      ]
    },
    {
      "cell_type": "code",
      "metadata": {
        "colab": {
          "base_uri": "https://localhost:8080/"
        },
        "id": "7KemFEP0VXil",
        "outputId": "72214f35-749b-42a2-8af8-481d750d5fce"
      },
      "source": [
        "from google.colab import drive\n",
        "drive.mount('/content/drive')"
      ],
      "execution_count": null,
      "outputs": [
        {
          "output_type": "stream",
          "text": [
            "Mounted at /content/drive\n"
          ],
          "name": "stdout"
        }
      ]
    },
    {
      "cell_type": "code",
      "metadata": {
        "id": "pIoXrhtCVaEd",
        "colab": {
          "base_uri": "https://localhost:8080/"
        },
        "outputId": "b5edf6ad-604c-4356-bb59-76468a7e1bab"
      },
      "source": [
        "!cp drive/MyDrive/RheologyStructure/heterogeneity_zip.zip heterogeneity_zip.zip\n",
        "!unzip heterogeneity_zip.zip"
      ],
      "execution_count": null,
      "outputs": [
        {
          "output_type": "stream",
          "text": [
            "Archive:  heterogeneity_zip.zip\n",
            "replace heterogeneity/seismograms/25.npy? [y]es, [n]o, [A]ll, [N]one, [r]ename: N\n"
          ],
          "name": "stdout"
        }
      ]
    },
    {
      "cell_type": "code",
      "metadata": {
        "id": "kZTq4ccZK0j1"
      },
      "source": [
        ""
      ],
      "execution_count": null,
      "outputs": []
    },
    {
      "cell_type": "markdown",
      "metadata": {
        "id": "kxr1_hKvLMSm"
      },
      "source": [
        "Смотрим, сколько всего сейсмограмм"
      ]
    },
    {
      "cell_type": "code",
      "metadata": {
        "id": "fQ4Gr7hXd_5U",
        "colab": {
          "base_uri": "https://localhost:8080/"
        },
        "outputId": "b355bb53-f9a6-413b-9fd8-5c3bc3199ddc"
      },
      "source": [
        "filenames = sorted(os.listdir(\"heterogeneity/masks\"))\n",
        "max_num = np.max([int(f[:-4]) for f in filenames]) + 1\n",
        "print(f\"Total number of seismograms is {max_num}\")"
      ],
      "execution_count": null,
      "outputs": [
        {
          "output_type": "stream",
          "text": [
            "Total number of seismograms is 1000\n"
          ],
          "name": "stdout"
        }
      ]
    },
    {
      "cell_type": "markdown",
      "metadata": {
        "id": "0oN83lDw3WQ5"
      },
      "source": [
        "Загружаем сейсмограммы, рескейлим маски, чтобы они были +- одного размера"
      ]
    },
    {
      "cell_type": "code",
      "metadata": {
        "id": "FNmu-7Elf603"
      },
      "source": [
        "seismograms_dict = {i:np.load(f\"heterogeneity/seismograms/{i}.npy\").transpose(1, 2, 0) for i in range(max_num)}\n",
        "\n",
        "def rescale_mask(mask):\n",
        "  return mask[::2, ::2] + mask[1::2, ::2] + mask[::2, 1::2] + mask[1::2, 1::2] >= 2\n",
        "\n",
        "masks_dict = {i:rescale_mask(np.load(f\"heterogeneity/masks/{i}.npy\")) for i in range(max_num)}"
      ],
      "execution_count": null,
      "outputs": []
    },
    {
      "cell_type": "markdown",
      "metadata": {
        "id": "dpMYiDy53sSL"
      },
      "source": [
        "Смотрим на пример маски"
      ]
    },
    {
      "cell_type": "code",
      "metadata": {
        "colab": {
          "base_uri": "https://localhost:8080/",
          "height": 285
        },
        "id": "dNsHuPXgf67_",
        "outputId": "246a9345-48c9-4ce0-aa35-42ed7710dc97"
      },
      "source": [
        "plt.imshow(masks_dict[500])"
      ],
      "execution_count": null,
      "outputs": [
        {
          "output_type": "execute_result",
          "data": {
            "text/plain": [
              "<matplotlib.image.AxesImage at 0x7f9bca3efc50>"
            ]
          },
          "metadata": {
            "tags": []
          },
          "execution_count": 7
        },
        {
          "output_type": "display_data",
          "data": {
            "image/png": "[encoded data removed]",
            "text/plain": [
              "<Figure size 432x288 with 1 Axes>"
            ]
          },
          "metadata": {
            "tags": [],
            "needs_background": "light"
          }
        }
      ]
    },
    {
      "cell_type": "code",
      "metadata": {
        "id": "se5GjgiTZyw4"
      },
      "source": [
        ""
      ],
      "execution_count": null,
      "outputs": []
    },
    {
      "cell_type": "code",
      "metadata": {
        "id": "enqxgw8b__kl",
        "colab": {
          "base_uri": "https://localhost:8080/"
        },
        "outputId": "58ede16a-d20e-42d6-b148-1638d3a43679"
      },
      "source": [
        "seismograms = np.array([seismograms_dict[i] for i in seismograms_dict])\n",
        "masks = np.array([masks_dict[i] for i in masks_dict]).reshape(-1, 128 ** 2)\n",
        "masks = masks * 1.\n",
        "# new_seismograms = np.zeros((1000, 128, 128, 3))\n",
        "# new_seismograms[:,:,:,:2] = seismograms\n",
        "# seismograms = new_seismograms\n",
        "seismograms.shape"
      ],
      "execution_count": null,
      "outputs": [
        {
          "output_type": "execute_result",
          "data": {
            "text/plain": [
              "(1000, 128, 128, 2)"
            ]
          },
          "metadata": {
            "tags": []
          },
          "execution_count": 9
        }
      ]
    },
    {
      "cell_type": "markdown",
      "metadata": {
        "id": "rOEPf8_C3xLx"
      },
      "source": [
        "Есть репозиторий с кучей непредобученных сеток с допустимыми изменениями входных параметров, его и юзаем"
      ]
    },
    {
      "cell_type": "code",
      "metadata": {
        "id": "RjC2Or1QzGEu"
      },
      "source": [
        "!pip install git+https://github.com/divamgupta/image-segmentation-keras"
      ],
      "execution_count": null,
      "outputs": []
    },
    {
      "cell_type": "code",
      "metadata": {
        "id": "0Gf8ol_aZyzg"
      },
      "source": [
        "# !wget https://github.com/divamgupta/datasets/releases/download/seg/dataset1.zip && unzip dataset1.zip"
      ],
      "execution_count": null,
      "outputs": []
    },
    {
      "cell_type": "code",
      "metadata": {
        "id": "o69FW_HDV-kA",
        "colab": {
          "base_uri": "https://localhost:8080/"
        },
        "outputId": "e0a5baeb-f988-4206-ae2b-decc8d7bfcbe"
      },
      "source": [
        "from keras_segmentation.models.segnet import vgg_segnet, segnet\n",
        "import tensorflow as tf\n",
        "from keras import backend as K\n",
        "\n",
        "sess = tf.compat.v1.Session(config=tf.compat.v1.ConfigProto(log_device_placement=True))"
      ],
      "execution_count": null,
      "outputs": [
        {
          "output_type": "stream",
          "text": [
            "Device mapping:\n",
            "/job:localhost/replica:0/task:0/device:GPU:0 -> device: 0, name: Tesla P100-PCIE-16GB, pci bus id: 0000:00:04.0, compute capability: 6.0\n",
            "\n"
          ],
          "name": "stdout"
        }
      ]
    },
    {
      "cell_type": "code",
      "metadata": {
        "id": "Q_7nfiXBViTG"
      },
      "source": [
        "# seismograms.shape"
      ],
      "execution_count": null,
      "outputs": []
    },
    {
      "cell_type": "markdown",
      "metadata": {
        "id": "C2xXJMMc4QdZ"
      },
      "source": [
        "Т. к. выборки насбаллансированные, используем взвешенную категориальную кросс-энтропию как функцию потерь"
      ]
    },
    {
      "cell_type": "code",
      "metadata": {
        "id": "xTl0rqLSa7Wg"
      },
      "source": [
        "def weighted_categorical_crossentropy(weights):\n",
        "    \"\"\"\n",
        "    A weighted version of keras.objectives.categorical_crossentropy\n",
        "    \n",
        "    Variables:\n",
        "        weights: numpy array of shape (C,) where C is the number of classes\n",
        "    \n",
        "    Usage:\n",
        "        weights = np.array([0.5,2,10]) # Class one at 0.5, class 2 twice the normal weights, class 3 10x.\n",
        "        loss = weighted_categorical_crossentropy(weights)\n",
        "        model.compile(loss=loss,optimizer='adam')\n",
        "    \"\"\"\n",
        "    \n",
        "    weights = K.variable(weights)\n",
        "        \n",
        "    def loss(y_true, y_pred):\n",
        "        # scale predictions so that the class probas of each sample sum to 1\n",
        "        y_pred /= K.sum(y_pred, axis=-1, keepdims=True)\n",
        "        # clip to prevent NaN's and Inf's\n",
        "        y_pred = K.clip(y_pred, K.epsilon(), 1 - K.epsilon())\n",
        "        # calc\n",
        "        loss = y_true * K.log(y_pred) * weights\n",
        "        loss = -K.sum(loss, -1)\n",
        "        return loss\n",
        "    \n",
        "    return loss"
      ],
      "execution_count": null,
      "outputs": []
    },
    {
      "cell_type": "markdown",
      "metadata": {
        "id": "NrXlOvuj5jzh"
      },
      "source": [
        "Стоит поиграть с параметром w - как раз весом в нашей функции потерь"
      ]
    },
    {
      "cell_type": "code",
      "metadata": {
        "id": "K3MCWkmIooAp"
      },
      "source": [
        "w = 1 - np.mean(gt[:,:,0]) \n",
        "weights = (w, 1 - w)\n",
        "loss = weighted_categorical_crossentropy(weights)"
      ],
      "execution_count": null,
      "outputs": []
    },
    {
      "cell_type": "code",
      "metadata": {
        "id": "pKtiqVvwbtmi"
      },
      "source": [
        "model_sgn = segnet(n_classes=2, input_height=128, input_width=128, encoder_level=2, channels=2)\n",
        "model = tf.keras.Sequential()\n",
        "model.add(model_sgn)\n",
        "model.add(tf.keras.layers.Reshape((128 * 128, 2))) \n",
        "model.add(tf.keras.layers.Softmax(axis=-1,))\n",
        "gt = np.array([masks, 1 - masks]).transpose(1, 2, 0)"
      ],
      "execution_count": null,
      "outputs": []
    },
    {
      "cell_type": "code",
      "metadata": {
        "id": "3qZWuRCPbKzG"
      },
      "source": [
        "model.compile(loss=loss,optimizer='rmsprop', metrics=['accuracy'])"
      ],
      "execution_count": null,
      "outputs": []
    },
    {
      "cell_type": "code",
      "metadata": {
        "id": "VwYIzWlEAqh_"
      },
      "source": [
        "history = model.fit(seismograms[:900], gt[:900], validation_data=(seismograms[900:], gt[900:]), batch_size=100, epochs=500)"
      ],
      "execution_count": null,
      "outputs": []
    },
    {
      "cell_type": "markdown",
      "metadata": {
        "id": "SmKnzfka54qy"
      },
      "source": [
        "График потерь на валидационной выборке"
      ]
    },
    {
      "cell_type": "code",
      "metadata": {
        "colab": {
          "base_uri": "https://localhost:8080/",
          "height": 282
        },
        "id": "q3NSaV6iu5eA",
        "outputId": "407c23a0-db12-450e-d977-6f24999fb9ea"
      },
      "source": [
        "plt.plot(np.arange(len(history.history[\"val_loss\"])), history.history[\"val_loss\"])"
      ],
      "execution_count": null,
      "outputs": [
        {
          "output_type": "execute_result",
          "data": {
            "text/plain": [
              "[<matplotlib.lines.Line2D at 0x7f9b0b548c10>]"
            ]
          },
          "metadata": {
            "tags": []
          },
          "execution_count": 186
        },
        {
          "output_type": "display_data",
          "data": {
            "image/png": "[encoded data removed]",
            "text/plain": [
              "<Figure size 432x288 with 1 Axes>"
            ]
          },
          "metadata": {
            "tags": [],
            "needs_background": "light"
          }
        }
      ]
    },
    {
      "cell_type": "markdown",
      "metadata": {
        "id": "SdH45jaR6R_g"
      },
      "source": [
        "То же самое, но с точностью"
      ]
    },
    {
      "cell_type": "code",
      "metadata": {
        "colab": {
          "base_uri": "https://localhost:8080/",
          "height": 282
        },
        "id": "RKU3kApUzmcA",
        "outputId": "33bf7e92-ed24-450b-dbaf-99b4a4ac67ce"
      },
      "source": [
        "plt.plot(np.arange(len(history.history[\"val_accuracy\"])), history.history[\"val_accuracy\"])"
      ],
      "execution_count": null,
      "outputs": [
        {
          "output_type": "execute_result",
          "data": {
            "text/plain": [
              "[<matplotlib.lines.Line2D at 0x7f98d124be90>]"
            ]
          },
          "metadata": {
            "tags": []
          },
          "execution_count": 187
        },
        {
          "output_type": "display_data",
          "data": {
            "image/png": "[encoded data removed]",
            "text/plain": [
              "<Figure size 432x288 with 1 Axes>"
            ]
          },
          "metadata": {
            "tags": [],
            "needs_background": "light"
          }
        }
      ]
    },
    {
      "cell_type": "markdown",
      "metadata": {
        "id": "ZM9_ePOm8NWX"
      },
      "source": [
        "Наконец, играем с картинками. Имеет смысл менять порог вероятности thx"
      ]
    },
    {
      "cell_type": "code",
      "metadata": {
        "colab": {
          "base_uri": "https://localhost:8080/",
          "height": 1000
        },
        "id": "dQ_ot6iuestO",
        "outputId": "c5c56024-d7bb-4d13-853c-ddd9f427da5f"
      },
      "source": [
        "predicts = model.predict(seismograms[-10:]).reshape(-1, 128, 128, 2)\n",
        "thx = 0.6\n",
        "\n",
        "fig, axis = plt.subplots(10, 2, sharex=True, sharey=True, figsize=(20, 20))\n",
        "fig.patch.set_visible(False)\n",
        "#axis.axis('off')\n",
        "for i in range(10):\n",
        "  axis[i][0].imshow(predicts[-10 + i,:,:,0] >= thx)\n",
        "  axis[i][1].imshow(gt[-10 + i,:,0].reshape(128, 128) >= 0.5)"
      ],
      "execution_count": null,
      "outputs": [
        {
          "output_type": "display_data",
          "data": {
            "image/png": "[encoded data removed]",
            "text/plain": [
              "<Figure size 1440x1440 with 20 Axes>"
            ]
          },
          "metadata": {
            "tags": [],
            "needs_background": "light"
          }
        }
      ]
    },
    {
      "cell_type": "code",
      "metadata": {
        "id": "8WcJqTs1kLLx"
      },
      "source": [
        ""
      ],
      "execution_count": null,
      "outputs": []
    },
    {
      "cell_type": "code",
      "metadata": {
        "id": "KsNKRdieogra"
      },
      "source": [
        ""
      ],
      "execution_count": null,
      "outputs": []
    },
    {
      "cell_type": "code",
      "metadata": {
        "id": "qph6qXEekLQP"
      },
      "source": [
        ""
      ],
      "execution_count": null,
      "outputs": []
    },
    {
      "cell_type": "code",
      "metadata": {
        "colab": {
          "base_uri": "https://localhost:8080/"
        },
        "id": "4ZKH1KhMf3X2",
        "outputId": "b5e8be52-4a2d-482b-86d5-46add4e4d0e3"
      },
      "source": [
        "for i in range(-9, 0, 1):\n",
        "  print(i)"
      ],
      "execution_count": null,
      "outputs": [
        {
          "output_type": "stream",
          "text": [
            "-9\n",
            "-8\n",
            "-7\n",
            "-6\n",
            "-5\n",
            "-4\n",
            "-3\n",
            "-2\n",
            "-1\n"
          ],
          "name": "stdout"
        }
      ]
    },
    {
      "cell_type": "code",
      "metadata": {
        "colab": {
          "base_uri": "https://localhost:8080/",
          "height": 1000
        },
        "id": "APow-2gdUPxs",
        "outputId": "4a1361bb-dc65-451c-c365-5dab60a5f844"
      },
      "source": [
        "predicts = model.predict(seismograms[-10:]).reshape(-1, 128, 128, 2)\n",
        "for i in range(-9, 0, 1):\n",
        "  plt.imshow(predicts[-i,:,:,0] >= 0.5)\n",
        "  plt.show()"
      ],
      "execution_count": null,
      "outputs": [
        {
          "output_type": "display_data",
          "data": {
            "image/png": "[encoded data removed]",
            "text/plain": [
              "<Figure size 432x288 with 1 Axes>"
            ]
          },
          "metadata": {
            "tags": [],
            "needs_background": "light"
          }
        },
        {
          "output_type": "display_data",
          "data": {
            "image/png": "[encoded data removed]",
            "text/plain": [
              "<Figure size 432x288 with 1 Axes>"
            ]
          },
          "metadata": {
            "tags": [],
            "needs_background": "light"
          }
        },
        {
          "output_type": "display_data",
          "data": {
            "image/png": "[encoded data removed]",
            "text/plain": [
              "<Figure size 432x288 with 1 Axes>"
            ]
          },
          "metadata": {
            "tags": [],
            "needs_background": "light"
          }
        },
        {
          "output_type": "display_data",
          "data": {
            "image/png": "[encoded data removed]",
            "text/plain": [
              "<Figure size 432x288 with 1 Axes>"
            ]
          },
          "metadata": {
            "tags": [],
            "needs_background": "light"
          }
        },
        {
          "output_type": "display_data",
          "data": {
            "image/png": "[encoded data removed]",
            "text/plain": [
              "<Figure size 432x288 with 1 Axes>"
            ]
          },
          "metadata": {
            "tags": [],
            "needs_background": "light"
          }
        },
        {
          "output_type": "display_data",
          "data": {
            "image/png": "[encoded data removed]",
            "text/plain": [
              "<Figure size 432x288 with 1 Axes>"
            ]
          },
          "metadata": {
            "tags": [],
            "needs_background": "light"
          }
        },
        {
          "output_type": "display_data",
          "data": {
            "image/png": "[encoded data removed]",
            "text/plain": [
              "<Figure size 432x288 with 1 Axes>"
            ]
          },
          "metadata": {
            "tags": [],
            "needs_background": "light"
          }
        },
        {
          "output_type": "display_data",
          "data": {
            "image/png": "[encoded data removed]",
            "text/plain": [
              "<Figure size 432x288 with 1 Axes>"
            ]
          },
          "metadata": {
            "tags": [],
            "needs_background": "light"
          }
        },
        {
          "output_type": "display_data",
          "data": {
            "image/png": "[encoded data removed]",
            "text/plain": [
              "<Figure size 432x288 with 1 Axes>"
            ]
          },
          "metadata": {
            "tags": [],
            "needs_background": "light"
          }
        }
      ]
    },
    {
      "cell_type": "code",
      "metadata": {
        "id": "ED3CJti8dIWA"
      },
      "source": [
        ""
      ],
      "execution_count": null,
      "outputs": []
    },
    {
      "cell_type": "code",
      "metadata": {
        "id": "mWIUBEdkdIZs"
      },
      "source": [
        ""
      ],
      "execution_count": null,
      "outputs": []
    },
    {
      "cell_type": "code",
      "metadata": {
        "id": "_s3veMkAdIeE"
      },
      "source": [
        ""
      ],
      "execution_count": null,
      "outputs": []
    },
    {
      "cell_type": "code",
      "metadata": {
        "id": "wPxRDHPQWu4a"
      },
      "source": [
        ""
      ],
      "execution_count": null,
      "outputs": []
    },
    {
      "cell_type": "code",
      "metadata": {
        "id": "kRwjXyiN8syS"
      },
      "source": [
        ""
      ],
      "execution_count": null,
      "outputs": []
    },
    {
      "cell_type": "code",
      "metadata": {
        "id": "4NLBJc6M6Ala"
      },
      "source": [
        ""
      ],
      "execution_count": null,
      "outputs": []
    },
    {
      "cell_type": "code",
      "metadata": {
        "id": "8yfzby3d8rXd"
      },
      "source": [
        ""
      ],
      "execution_count": null,
      "outputs": []
    },
    {
      "cell_type": "code",
      "metadata": {
        "id": "73hWpZqj7Zb_"
      },
      "source": [
        ""
      ],
      "execution_count": null,
      "outputs": []
    },
    {
      "cell_type": "code",
      "metadata": {
        "id": "Y-t_D_UK7Zeh"
      },
      "source": [
        ""
      ],
      "execution_count": null,
      "outputs": []
    },
    {
      "cell_type": "code",
      "metadata": {
        "id": "Tgw6ZsX-7Zh1"
      },
      "source": [
        ""
      ],
      "execution_count": null,
      "outputs": []
    },
    {
      "cell_type": "code",
      "metadata": {
        "id": "c7z_HQD_55eZ"
      },
      "source": [
        ""
      ],
      "execution_count": null,
      "outputs": []
    },
    {
      "cell_type": "code",
      "metadata": {
        "id": "r_Qgarw455m-"
      },
      "source": [
        ""
      ],
      "execution_count": null,
      "outputs": []
    },
    {
      "cell_type": "code",
      "metadata": {
        "id": "DhFo09FW55qa"
      },
      "source": [
        ""
      ],
      "execution_count": null,
      "outputs": []
    },
    {
      "cell_type": "code",
      "metadata": {
        "id": "5ra5LLUh5OH5"
      },
      "source": [
        ""
      ],
      "execution_count": null,
      "outputs": []
    },
    {
      "cell_type": "code",
      "metadata": {
        "id": "s6zS_Y8G5OOa"
      },
      "source": [
        ""
      ],
      "execution_count": null,
      "outputs": []
    },
    {
      "cell_type": "code",
      "metadata": {
        "id": "QCPnpOsVz1u7"
      },
      "source": [
        ""
      ],
      "execution_count": null,
      "outputs": []
    },
    {
      "cell_type": "code",
      "metadata": {
        "colab": {
          "base_uri": "https://localhost:8080/"
        },
        "id": "j9FBkWtKZOtu",
        "outputId": "9bba51e5-5d12-4462-fff8-d26041d5844e"
      },
      "source": [
        "masks_dict[500].shape"
      ],
      "execution_count": null,
      "outputs": [
        {
          "output_type": "execute_result",
          "data": {
            "text/plain": [
              "(128, 128)"
            ]
          },
          "metadata": {
            "tags": []
          },
          "execution_count": 17
        }
      ]
    },
    {
      "cell_type": "code",
      "metadata": {
        "id": "NC-k9YvpzwNE"
      },
      "source": [
        ""
      ],
      "execution_count": null,
      "outputs": []
    }
  ]
}