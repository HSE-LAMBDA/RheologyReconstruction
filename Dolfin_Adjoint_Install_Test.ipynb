{
  "nbformat": 4,
  "nbformat_minor": 0,
  "metadata": {
    "colab": {
      "name": "Dolfin_Adjoint_Install_Test.ipynb",
      "provenance": []
    },
    "kernelspec": {
      "name": "python3",
      "display_name": "Python 3"
    },
    "language_info": {
      "name": "python"
    }
  },
  "cells": [
    {
      "cell_type": "code",
      "metadata": {
        "id": "vrJgdEPCUf9T"
      },
      "source": [
        "pip install fenics"
      ],
      "execution_count": null,
      "outputs": []
    },
    {
      "cell_type": "code",
      "metadata": {
        "id": "WEx4ffTaURpj"
      },
      "source": [
        "!apt-get install --no-install-recommends fenics"
      ],
      "execution_count": null,
      "outputs": []
    },
    {
      "cell_type": "code",
      "metadata": {
        "id": "_D6gAYhOURuI"
      },
      "source": [
        ""
      ],
      "execution_count": null,
      "outputs": []
    },
    {
      "cell_type": "code",
      "metadata": {
        "colab": {
          "base_uri": "https://localhost:8080/"
        },
        "id": "D_qdqtJPH9Yu",
        "outputId": "fb05026e-a1e5-4291-eaaf-4b06368c6dcc"
      },
      "source": [
        "!pip install -q condacolab\n",
        "import condacolab\n",
        "condacolab.install()"
      ],
      "execution_count": 4,
      "outputs": [
        {
          "output_type": "stream",
          "text": [
            "⏬ Downloading https://github.com/jaimergp/miniforge/releases/latest/download/Mambaforge-colab-Linux-x86_64.sh...\n",
            "📦 Installing...\n",
            "📌 Adjusting configuration...\n",
            "🩹 Patching environment...\n",
            "⏲ Done in 0:00:46\n",
            "🔁 Restarting kernel...\n"
          ],
          "name": "stdout"
        }
      ]
    },
    {
      "cell_type": "markdown",
      "metadata": {
        "id": "ng2WS0pPVu1a"
      },
      "source": [
        "Тут ядро дохнет, так надо"
      ]
    },
    {
      "cell_type": "code",
      "metadata": {
        "id": "XFrbpnPoMd06"
      },
      "source": [
        ""
      ],
      "execution_count": null,
      "outputs": []
    },
    {
      "cell_type": "code",
      "metadata": {
        "id": "713FapemHJ2l"
      },
      "source": [
        "!conda config --add channels conda-forge"
      ],
      "execution_count": 2,
      "outputs": []
    },
    {
      "cell_type": "code",
      "metadata": {
        "id": "iENeVd-zImjR"
      },
      "source": [
        "!conda install fenics"
      ],
      "execution_count": null,
      "outputs": []
    },
    {
      "cell_type": "code",
      "metadata": {
        "id": "nqWQQMApHVVM"
      },
      "source": [
        ""
      ],
      "execution_count": null,
      "outputs": []
    },
    {
      "cell_type": "code",
      "metadata": {
        "id": "b7FIk99JICXR"
      },
      "source": [
        "from fenics import *\n",
        "from dolfin import *"
      ],
      "execution_count": 4,
      "outputs": []
    },
    {
      "cell_type": "code",
      "metadata": {
        "colab": {
          "base_uri": "https://localhost:8080/"
        },
        "id": "FNemDwU_PcK9",
        "outputId": "476e1b79-e4ed-4a49-c2e6-138f703762a5"
      },
      "source": [
        "!pip install git+https://github.com/dolfin-adjoint/pyadjoint.git@2019.1.0\n"
      ],
      "execution_count": 5,
      "outputs": [
        {
          "output_type": "stream",
          "text": [
            "Collecting git+https://github.com/dolfin-adjoint/pyadjoint.git@2019.1.0\n",
            "  Cloning https://github.com/dolfin-adjoint/pyadjoint.git (to revision 2019.1.0) to /tmp/pip-req-build-kwh742_d\n",
            "  Running command git clone -q https://github.com/dolfin-adjoint/pyadjoint.git /tmp/pip-req-build-kwh742_d\n",
            "  Running command git checkout -q 6c2363bc23f0260a7a1988852c358105f31d38c7\n",
            "Collecting scipy>=1.0\n",
            "  Downloading scipy-1.6.1-cp37-cp37m-manylinux1_x86_64.whl (27.4 MB)\n",
            "\u001b[K     |████████████████████████████████| 27.4 MB 49 kB/s \n",
            "\u001b[?25hRequirement already satisfied: numpy>=1.16.5 in /usr/local/lib/python3.7/site-packages (from scipy>=1.0->dolfin-adjoint==2019.1.0) (1.20.1)\n",
            "Building wheels for collected packages: dolfin-adjoint\n",
            "  Building wheel for dolfin-adjoint (setup.py) ... \u001b[?25l\u001b[?25hdone\n",
            "  Created wheel for dolfin-adjoint: filename=dolfin_adjoint-2019.1.0-py3-none-any.whl size=85020 sha256=7dec90b5e59179df34fcfacbe66505e1d4286bdfb32652a242dfbe333c5f8288\n",
            "  Stored in directory: /tmp/pip-ephem-wheel-cache-5sz85om1/wheels/65/8f/a5/b5a2dc1cac4916ff17cb60a748b5473c2e37be39cd415baadb\n",
            "Successfully built dolfin-adjoint\n",
            "Installing collected packages: scipy, dolfin-adjoint\n",
            "Successfully installed dolfin-adjoint-2019.1.0 scipy-1.6.1\n"
          ],
          "name": "stdout"
        }
      ]
    },
    {
      "cell_type": "code",
      "metadata": {
        "id": "DmfhF4J1Pksf"
      },
      "source": [
        "import fenics_adjoint"
      ],
      "execution_count": 6,
      "outputs": []
    },
    {
      "cell_type": "code",
      "metadata": {
        "id": "zOUlNYSmROoq"
      },
      "source": [
        ""
      ],
      "execution_count": null,
      "outputs": []
    },
    {
      "cell_type": "markdown",
      "metadata": {
        "id": "XKD-HE8JXGRU"
      },
      "source": [
        "Тест"
      ]
    },
    {
      "cell_type": "code",
      "metadata": {
        "id": "3lxrUMzOROrQ"
      },
      "source": [
        "from dolfin import *\n",
        "\n",
        "from dolfin_adjoint import *"
      ],
      "execution_count": 7,
      "outputs": []
    },
    {
      "cell_type": "code",
      "metadata": {
        "colab": {
          "base_uri": "https://localhost:8080/"
        },
        "id": "XIV61WvqRStE",
        "outputId": "bff0926f-5e07-4980-c394-83b827bf79ec"
      },
      "source": [
        "!pip install moola"
      ],
      "execution_count": 8,
      "outputs": [
        {
          "output_type": "stream",
          "text": [
            "Collecting moola\n",
            "  Downloading moola-0.1.6-py3-none-any.whl (52 kB)\n",
            "\u001b[?25l\r\u001b[K     |██████▎                         | 10 kB 23.3 MB/s eta 0:00:01\r\u001b[K     |████████████▌                   | 20 kB 30.4 MB/s eta 0:00:01\r\u001b[K     |██████████████████▉             | 30 kB 36.1 MB/s eta 0:00:01\r\u001b[K     |█████████████████████████       | 40 kB 26.3 MB/s eta 0:00:01\r\u001b[K     |███████████████████████████████▎| 51 kB 16.8 MB/s eta 0:00:01\r\u001b[K     |████████████████████████████████| 52 kB 421 kB/s \n",
            "\u001b[?25hInstalling collected packages: moola\n",
            "Successfully installed moola-0.1.6\n"
          ],
          "name": "stdout"
        }
      ]
    },
    {
      "cell_type": "code",
      "metadata": {
        "id": "5BpudEfgROvQ"
      },
      "source": [
        "import moola"
      ],
      "execution_count": 9,
      "outputs": []
    },
    {
      "cell_type": "code",
      "metadata": {
        "id": "UPFznLY-RRvt"
      },
      "source": [
        "n = 64\n",
        "mesh = UnitSquareMesh(n, n)\n",
        "\n",
        "cf = MeshFunction(\"bool\", mesh, mesh.geometric_dimension())\n",
        "subdomain = CompiledSubDomain('std::abs(x[0]-0.5) < 0.25 && std::abs(x[1]-0.5) < 0.25')\n",
        "subdomain.mark(cf, True)\n",
        "mesh = refine(mesh, cf)"
      ],
      "execution_count": 10,
      "outputs": []
    },
    {
      "cell_type": "code",
      "metadata": {
        "colab": {
          "base_uri": "https://localhost:8080/"
        },
        "id": "mPr2MPHBRXI1",
        "outputId": "808a2ff9-7110-4084-f498-7f3a408a3526"
      },
      "source": [
        "V = FunctionSpace(mesh, \"CG\", 1)\n",
        "W = FunctionSpace(mesh, \"DG\", 0)\n",
        "\n",
        "f = interpolate(Expression(\"x[0]+x[1]\", name='Control', degree=1), W)\n",
        "u = Function(V, name='State')\n",
        "v = TestFunction(V)"
      ],
      "execution_count": 11,
      "outputs": [
        {
          "output_type": "stream",
          "text": [
            "Calling FFC just-in-time (JIT) compiler, this may take some time.\n",
            "Calling FFC just-in-time (JIT) compiler, this may take some time.\n"
          ],
          "name": "stdout"
        }
      ]
    },
    {
      "cell_type": "code",
      "metadata": {
        "colab": {
          "base_uri": "https://localhost:8080/"
        },
        "id": "co5IzwZORaPg",
        "outputId": "9543c7e8-ff74-4b42-b671-2598bf237f65"
      },
      "source": [
        "F = (inner(grad(u), grad(v)) - f * v) * dx\n",
        "bc = DirichletBC(V, 0.0, \"on_boundary\")\n",
        "solve(F == 0, u, bc)"
      ],
      "execution_count": 12,
      "outputs": [
        {
          "output_type": "stream",
          "text": [
            "Calling FFC just-in-time (JIT) compiler, this may take some time.\n",
            "Calling FFC just-in-time (JIT) compiler, this may take some time.\n",
            "Calling FFC just-in-time (JIT) compiler, this may take some time.\n",
            "Calling FFC just-in-time (JIT) compiler, this may take some time.\n"
          ],
          "name": "stdout"
        }
      ]
    },
    {
      "cell_type": "code",
      "metadata": {
        "id": "dhYlzzDrRaSa"
      },
      "source": [
        "x = SpatialCoordinate(mesh)\n",
        "w = Expression(\"sin(pi*x[0])*sin(pi*x[1])\", degree=3)\n",
        "d = 1 / (2 * pi ** 2)\n",
        "d = Expression(\"d*w\", d=d, w=w, degree=3)\n"
      ],
      "execution_count": 13,
      "outputs": []
    },
    {
      "cell_type": "code",
      "metadata": {
        "colab": {
          "base_uri": "https://localhost:8080/"
        },
        "id": "qSrCktjgRaVr",
        "outputId": "6b7656ce-5477-44a0-cedd-55c5a69814b2"
      },
      "source": [
        "alpha = Constant(1e-6)\n",
        "J = assemble((0.5 * inner(u - d, u - d)) * dx + alpha / 2 * f ** 2 * dx)\n",
        "control = Control(f)"
      ],
      "execution_count": 14,
      "outputs": [
        {
          "output_type": "stream",
          "text": [
            "Calling FFC just-in-time (JIT) compiler, this may take some time.\n",
            "Calling FFC just-in-time (JIT) compiler, this may take some time.\n",
            "Calling FFC just-in-time (JIT) compiler, this may take some time.\n",
            "Calling FFC just-in-time (JIT) compiler, this may take some time.\n",
            "Calling FFC just-in-time (JIT) compiler, this may take some time.\n",
            "Calling FFC just-in-time (JIT) compiler, this may take some time.\n",
            "Calling FFC just-in-time (JIT) compiler, this may take some time.\n"
          ],
          "name": "stdout"
        }
      ]
    },
    {
      "cell_type": "code",
      "metadata": {
        "id": "3McnGHWvRwg7"
      },
      "source": [
        "rf = ReducedFunctional(J, control)"
      ],
      "execution_count": 15,
      "outputs": []
    },
    {
      "cell_type": "code",
      "metadata": {
        "colab": {
          "base_uri": "https://localhost:8080/"
        },
        "id": "LqB6aD-GRmN6",
        "outputId": "dcbc6036-f84a-48bf-f934-60d912b86478"
      },
      "source": [
        "problem = MoolaOptimizationProblem(rf)\n",
        "f_moola = moola.DolfinPrimalVector(f)\n",
        "solver = moola.NewtonCG(problem, f_moola, options={'gtol': 1e-9,\n",
        "                                                   'maxiter': 20,\n",
        "                                                   'display': 3,\n",
        "                                                   'ncg_hesstol': 0})"
      ],
      "execution_count": 16,
      "outputs": [
        {
          "output_type": "stream",
          "text": [
            "Calling FFC just-in-time (JIT) compiler, this may take some time.\n"
          ],
          "name": "stdout"
        }
      ]
    },
    {
      "cell_type": "code",
      "metadata": {
        "id": "qimld_g6Rrp0"
      },
      "source": [
        "solver = moola.BFGS(problem, f_moola, options={'jtol': 0,\n",
        "                                               'gtol': 1e-9,\n",
        "                                               'Hinit': \"default\",\n",
        "                                               'maxiter': 100,\n",
        "                                               'mem_lim': 10})"
      ],
      "execution_count": 17,
      "outputs": []
    },
    {
      "cell_type": "code",
      "metadata": {
        "colab": {
          "base_uri": "https://localhost:8080/",
          "height": 1000
        },
        "id": "Tu3ZUCaeR0fg",
        "outputId": "d5cec57a-4563-4a71-c606-f28e609ba777"
      },
      "source": [
        "sol = solver.solve()\n",
        "f_opt = sol['control'].data\n",
        "\n",
        "plot(f_opt, title=\"f_opt\")\n",
        "\n",
        "# Define the expressions of the analytical solution\n",
        "f_analytic = Expression(\"1/(1+alpha*4*pow(pi, 4))*w\", w=w, alpha=alpha, degree=3)\n",
        "u_analytic = Expression(\"1/(2*pow(pi, 2))*f\", f=f_analytic, degree=3)"
      ],
      "execution_count": 18,
      "outputs": [
        {
          "output_type": "stream",
          "text": [
            "L-BFGS method.\n",
            "------------------------------\n",
            "Line search:\t\t strong_wolfe\n",
            "Maximum iterations:\t 100\n",
            "\n",
            "Calling FFC just-in-time (JIT) compiler, this may take some time.\n",
            "Calling FFC just-in-time (JIT) compiler, this may take some time.\n",
            "Calling FFC just-in-time (JIT) compiler, this may take some time.\n",
            "Calling FFC just-in-time (JIT) compiler, this may take some time.\n",
            "Calling FFC just-in-time (JIT) compiler, this may take some time.\n",
            "Calling FFC just-in-time (JIT) compiler, this may take some time.\n",
            "iteration = 0:\tobjective = 0.00014965968652145485:\tgrad_norm = 0.000805979390707312:\n",
            "-g 0.000805979390707312\n",
            "iteration = 1:\tobjective = 2.0374011482619616e-05:\tgrad_norm = 0.00010712769056805015:\tdelta_J = 0.00012928567503883525:\n",
            "-g 4.488801984484816e-06\n",
            "iteration = 2:\tobjective = 1.6215590303848852e-05:\tgrad_norm = 9.146895746674933e-05:\tdelta_J = 4.158421178770764e-06:\n",
            "-g 2.447233343506009e-05\n",
            "iteration = 3:\tobjective = 3.1400127737429937e-06:\tgrad_norm = 2.2402342128988104e-05:\tdelta_J = 1.3075577530105857e-05:\n",
            "-g 1.4945068368054289e-06\n",
            "iteration = 4:\tobjective = 1.912065056811414e-06:\tgrad_norm = 1.7341637301184063e-05:\tdelta_J = 1.2279477169315795e-06:\n",
            "-g 2.4195439280074467e-06\n",
            "iteration = 5:\tobjective = 6.126401501621852e-07:\tgrad_norm = 3.9069846738695986e-06:\tdelta_J = 1.2994249066492289e-06:\n",
            "-g 1.3806995043952568e-07\n",
            "iteration = 6:\tobjective = 4.95233928485663e-07:\tgrad_norm = 3.2576743844231234e-06:\tdelta_J = 1.1740622167652219e-07:\n",
            "-g 3.76859962330717e-07\n",
            "iteration = 7:\tobjective = 2.733124132062182e-07:\tgrad_norm = 1.6842514055496671e-06:\tdelta_J = 2.2192151527944486e-07:\n",
            "-g 8.767791080264737e-08\n",
            "iteration = 8:\tobjective = 2.1400612241200933e-07:\tgrad_norm = 1.1066653062733135e-06:\tdelta_J = 5.930629079420886e-08:\n",
            "-g 5.553507733455516e-08\n",
            "iteration = 9:\tobjective = 1.9389901932543464e-07:\tgrad_norm = 2.3036172153641184e-06:\tdelta_J = 2.0107103086574694e-08:\n",
            "-g 3.500878254093878e-08\n",
            "iteration = 10:\tobjective = 1.7336629249703064e-07:\tgrad_norm = 9.324518081798143e-07:\tdelta_J = 2.0532726828403994e-08:\n",
            "-g 1.1176491514138487e-08\n",
            "iteration = 11:\tobjective = 1.642681250437867e-07:\tgrad_norm = 6.618809968930604e-07:\tdelta_J = 9.098167453243932e-09:\n",
            "-g 1.9991463913098545e-08\n",
            "iteration = 12:\tobjective = 1.522202746655662e-07:\tgrad_norm = 4.7123520354577535e-07:\tdelta_J = 1.2047850378220502e-08:\n",
            "-g 8.408999253310653e-09\n",
            "iteration = 13:\tobjective = 1.4548855221468148e-07:\tgrad_norm = 3.927564019590091e-07:\tdelta_J = 6.731722450884725e-09:\n",
            "-g 1.782177954678094e-08\n",
            "iteration = 14:\tobjective = 1.434822363809708e-07:\tgrad_norm = 2.6435507126890506e-06:\tdelta_J = 2.0063158337106834e-09:\n",
            "-g 1.0605106592317208e-08\n",
            "iteration = 15:\tobjective = 1.378157379299567e-07:\tgrad_norm = 7.78637549132201e-07:\tdelta_J = 5.6664984510141004e-09:\n",
            "-g 1.622812010934032e-09\n",
            "iteration = 16:\tobjective = 1.363871385686454e-07:\tgrad_norm = 6.244571874524634e-07:\tdelta_J = 1.4285993613113074e-09:\n",
            "-g 6.77823234664939e-09\n",
            "iteration = 17:\tobjective = 1.3326152579615278e-07:\tgrad_norm = 8.975411916741856e-07:\tdelta_J = 3.1256127724926116e-09:\n",
            "-g 3.5980584099875282e-09\n",
            "iteration = 18:\tobjective = 1.3262238982728254e-07:\tgrad_norm = 3.037115182708116e-07:\tdelta_J = 6.391359688702425e-10:\n",
            "-g 2.0445761002665216e-10\n",
            "iteration = 19:\tobjective = 1.324366770666472e-07:\tgrad_norm = 2.809210013934918e-07:\tdelta_J = 1.8571276063533516e-10:\n",
            "-g 1.5639385464401317e-09\n",
            "iteration = 20:\tobjective = 1.3131413432635953e-07:\tgrad_norm = 4.3181062434235096e-07:\tdelta_J = 1.1225427402876673e-09:\n",
            "-g 1.6159376199314179e-09\n",
            "iteration = 21:\tobjective = 1.3006635914555843e-07:\tgrad_norm = 5.386715229646216e-07:\tdelta_J = 1.247775180801105e-09:\n",
            "-g 3.0573881640857478e-09\n",
            "iteration = 22:\tobjective = 1.2820039118592046e-07:\tgrad_norm = 5.156231266512142e-07:\tdelta_J = 1.865967959637968e-09:\n",
            "-g 3.3453309980599616e-09\n",
            "iteration = 23:\tobjective = 1.2780921258971522e-07:\tgrad_norm = 5.055529963470343e-07:\tdelta_J = 3.9117859620524013e-10:\n",
            "-g 8.541841703386389e-10\n",
            "iteration = 24:\tobjective = 1.2726200544467778e-07:\tgrad_norm = 1.8437376578011901e-07:\tdelta_J = 5.472071450374463e-10:\n",
            "-g 3.1372206499940745e-10\n",
            "iteration = 25:\tobjective = 1.2709782305121618e-07:\tgrad_norm = 5.826867698687623e-07:\tdelta_J = 1.6418239346159974e-10:\n",
            "-g 2.0257204331986405e-10\n",
            "\n",
            "Tolerance reached: delta_j < jtol.\n",
            "\n",
            "iteration = 26:\tobjective = 1.2695416035787095e-07:\tgrad_norm = 3.360800706181039e-07:\tdelta_J = 1.4366269334522064e-10:\n"
          ],
          "name": "stdout"
        },
        {
          "output_type": "display_data",
          "data": {
            "image/png": "[encoded data removed]",
            "text/plain": [
              "<Figure size 432x288 with 1 Axes>"
            ]
          },
          "metadata": {
            "tags": [],
            "needs_background": "light"
          }
        }
      ]
    },
    {
      "cell_type": "code",
      "metadata": {
        "colab": {
          "base_uri": "https://localhost:8080/"
        },
        "id": "ugj4aEv2R3n7",
        "outputId": "fdc3d608-015f-4edb-8b99-0f6c002f70ca"
      },
      "source": [
        "f.assign(f_opt)\n",
        "solve(F == 0, u, bc)\n",
        "control_error = errornorm(f_analytic, f_opt)\n",
        "state_error = errornorm(u_analytic, u)\n",
        "print(\"h(min):           %e.\" % mesh.hmin())\n",
        "print(\"Error in state:   %e.\" % state_error)\n",
        "print(\"Error in control: %e.\" % control_error)"
      ],
      "execution_count": 19,
      "outputs": [
        {
          "output_type": "stream",
          "text": [
            "Calling FFC just-in-time (JIT) compiler, this may take some time.\n",
            "Calling FFC just-in-time (JIT) compiler, this may take some time.\n",
            "Calling FFC just-in-time (JIT) compiler, this may take some time.\n",
            "Calling FFC just-in-time (JIT) compiler, this may take some time.\n",
            "Calling FFC just-in-time (JIT) compiler, this may take some time.\n",
            "Calling FFC just-in-time (JIT) compiler, this may take some time.\n",
            "h(min):           1.104854e-02.\n",
            "Error in state:   3.970729e-05.\n",
            "Error in control: 4.677820e-02.\n"
          ],
          "name": "stdout"
        }
      ]
    },
    {
      "cell_type": "code",
      "metadata": {
        "id": "UYYX46T8SCsU"
      },
      "source": [
        ""
      ],
      "execution_count": 20,
      "outputs": []
    },
    {
      "cell_type": "code",
      "metadata": {
        "id": "HKxXFHoiYmWN"
      },
      "source": [
        ""
      ],
      "execution_count": null,
      "outputs": []
    }
  ]
}